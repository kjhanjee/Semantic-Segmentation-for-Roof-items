{
  "nbformat": 4,
  "nbformat_minor": 0,
  "metadata": {
    "colab": {
      "provenance": []
    },
    "kernelspec": {
      "name": "python3",
      "display_name": "Python 3"
    },
    "language_info": {
      "name": "python"
    }
  },
  "cells": [
    {
      "cell_type": "markdown",
      "source": [
        "# Imports"
      ],
      "metadata": {
        "id": "pXqAwjtYuJJG"
      }
    },
    {
      "cell_type": "code",
      "source": [
        "from PIL import Image\n",
        "import cv2\n",
        "import torch\n",
        "import numpy as np\n",
        "from torch.utils.data import Dataset\n",
        "import albumentations as A\n",
        "import zipfile\n",
        "import os\n",
        "from tqdm.notebook import tqdm\n",
        "from matplotlib import pyplot as plt\n",
        "import tensorflow as tf\n",
        "import tensorflow.keras as keras"
      ],
      "metadata": {
        "id": "kmpvIHKhuII9"
      },
      "execution_count": null,
      "outputs": []
    },
    {
      "cell_type": "code",
      "source": [
        "model = keras.models.load_model('/content/drive/MyDrive/Unet/')"
      ],
      "metadata": {
        "id": "FHbSCYmkuWML"
      },
      "execution_count": null,
      "outputs": []
    },
    {
      "cell_type": "code",
      "source": [
        "class DataGen(keras.utils.Sequence):\n",
        "    def __init__(self, images,masks, batch_size=8, image_size=256):\n",
        "        self.images = images\n",
        "        self.masks = masks\n",
        "        self.batch_size = batch_size\n",
        "        self.image_size = image_size\n",
        "        self.on_epoch_end()\n",
        "\n",
        "    def __load__(self, index):\n",
        "        image = self.images[index]\n",
        "        image = cv2.resize(image, (self.image_size, self.image_size))\n",
        "\n",
        "        mask = self.masks[index]\n",
        "        mask = cv2.resize(mask,(self.image_size,self.image_size))\n",
        "\n",
        "        ## Normalizaing\n",
        "        image = image/255.0\n",
        "        mask = mask\n",
        "\n",
        "        return image, mask\n",
        "\n",
        "    def __getitem__(self, index):\n",
        "        if(index+1)*self.batch_size > len(self.images):\n",
        "            self.batch_size = len(self.images) - index*self.batch_size\n",
        "\n",
        "        indexes = range(index*self.batch_size,(index+1)*self.batch_size)\n",
        "\n",
        "        image = []\n",
        "        mask  = []\n",
        "\n",
        "        for i in indexes:\n",
        "            _img, _mask = self.__load__(i)\n",
        "            image.append(_img)\n",
        "            mask.append(_mask)\n",
        "\n",
        "        image = np.array(image)\n",
        "        mask  = np.array(mask)\n",
        "\n",
        "        return image, mask\n",
        "\n",
        "    def on_epoch_end(self):\n",
        "        pass\n",
        "\n",
        "    def __len__(self):\n",
        "        return int(np.ceil(len(self.images)/float(self.batch_size)))"
      ],
      "metadata": {
        "id": "jj0zln0_unrX"
      },
      "execution_count": null,
      "outputs": []
    },
    {
      "cell_type": "code",
      "source": [
        "image = ['/content/aerial.jpg','/content/aerial2.jpg','/content/aerial3.jpg']\n",
        "images = []\n",
        "for path in image:\n",
        "  img = Image.open(path)\n",
        "  img = np.array(img)\n",
        "  images.append(img)\n",
        "image_gen = DataGen(images,images,1)"
      ],
      "metadata": {
        "id": "iQV2wD12uttt"
      },
      "execution_count": null,
      "outputs": []
    },
    {
      "cell_type": "code",
      "source": [
        "x,y = image_gen.__getitem__(2)"
      ],
      "metadata": {
        "id": "ArOkuruRvkBH"
      },
      "execution_count": null,
      "outputs": []
    },
    {
      "cell_type": "code",
      "source": [
        "out = model.predict(x)"
      ],
      "metadata": {
        "colab": {
          "base_uri": "https://localhost:8080/"
        },
        "id": "iL5zX1eLwClc",
        "outputId": "13edd09d-daf0-4665-924e-7a12ab16e81a"
      },
      "execution_count": null,
      "outputs": [
        {
          "output_type": "stream",
          "name": "stdout",
          "text": [
            "1/1 [==============================] - 1s 675ms/step\n"
          ]
        }
      ]
    }
  ]
}